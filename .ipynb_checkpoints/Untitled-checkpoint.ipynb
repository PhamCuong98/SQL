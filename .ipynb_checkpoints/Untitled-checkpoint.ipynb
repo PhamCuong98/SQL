{
 "cells": [
  {
   "cell_type": "code",
   "execution_count": null,
   "metadata": {},
   "outputs": [],
   "source": [
    "import numpy as np\n",
    "import cv2 \n",
    "\n",
    "import tensorflow as tf\n",
    "from tensorflow.compat.v1.keras.models import load_model\n",
    "print(tf.__version__)\n",
    "model = load_model(\"my_model.h5\")\n",
    "model.summary()\n",
    "\n",
    "vid = cv2.VideoCapture(0) \n",
    "\n",
    "while(True): \n",
    "\n",
    "    ret, frame = vid.read() \n",
    "'''\n",
    "    y= model.predict(frame)\n",
    "    print(y)\n",
    "'''\n",
    "    cv2.imshow('frame', frame) \n",
    "\n",
    "    if cv2.waitKey(1) & 0xFF == ord('q'): \n",
    "        break\n",
    "vid.release() \n",
    "# Destroy all the windows \n",
    "cv2.destroyAllWindows() "
   ]
  }
 ],
 "metadata": {
  "kernelspec": {
   "display_name": "Python 3",
   "language": "python",
   "name": "python3"
  },
  "language_info": {
   "codemirror_mode": {
    "name": "ipython",
    "version": 3
   },
   "file_extension": ".py",
   "mimetype": "text/x-python",
   "name": "python",
   "nbconvert_exporter": "python",
   "pygments_lexer": "ipython3",
   "version": "3.7.3"
  }
 },
 "nbformat": 4,
 "nbformat_minor": 2
}
